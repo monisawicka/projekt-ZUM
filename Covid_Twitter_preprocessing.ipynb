{
  "nbformat": 4,
  "nbformat_minor": 0,
  "metadata": {
    "colab": {
      "name": "Covid Twitter preprocessing.ipynb",
      "provenance": [],
      "collapsed_sections": []
    },
    "kernelspec": {
      "display_name": "Python 3",
      "language": "python",
      "name": "python3"
    }
  },
  "cells": [
    {
      "cell_type": "markdown",
      "source": [
        "# Covid Tweets Preprocessing"
      ],
      "metadata": {
        "id": "zXap4rTSLfH0"
      }
    },
    {
      "cell_type": "code",
      "source": [
        "!python -m pip install spacy==2.3.2 -q\n",
        "!python -m spacy download pl_core_news_md  -q"
      ],
      "metadata": {
        "id": "CXhRsGwHL6JK",
        "colab": {
          "base_uri": "https://localhost:8080/"
        },
        "outputId": "ee1aeb6d-dff9-4ffc-adac-ff4d03f0aca4"
      },
      "execution_count": 1,
      "outputs": [
        {
          "output_type": "stream",
          "name": "stdout",
          "text": [
            "\u001b[K     |████████████████████████████████| 79.9 MB 1.2 MB/s \n",
            "\u001b[?25h\u001b[38;5;2m✔ Download and installation successful\u001b[0m\n",
            "You can now load the model via spacy.load('pl_core_news_md')\n"
          ]
        }
      ]
    },
    {
      "cell_type": "code",
      "metadata": {
        "id": "5H_e0_zm3OS2"
      },
      "source": [
        "import os\n",
        "import tweepy as tw\n",
        "import pandas as pd\n",
        "import numpy as np\n",
        "import time\n",
        "import spacy\n",
        "import nltk\n",
        "from nltk.stem import WordNetLemmatizer\n",
        "import re\n",
        "from gensim.models.phrases import Phrases, Phraser\n",
        "from gensim.models import Word2Vec\n",
        "from wordcloud import WordCloud\n",
        "import multiprocessing\n",
        "from sklearn.cluster import KMeans\n",
        "import seaborn as sns\n",
        "from wordcloud import WordCloud\n",
        "import matplotlib.pyplot as plt"
      ],
      "execution_count": 13,
      "outputs": []
    },
    {
      "cell_type": "code",
      "source": [
        "from google.colab import drive\n",
        "drive.mount('/content/drive')"
      ],
      "metadata": {
        "colab": {
          "base_uri": "https://localhost:8080/"
        },
        "id": "mY7C2CynQtKv",
        "outputId": "5ee31d52-ef05-4e6f-f49f-0b22c896daf2"
      },
      "execution_count": 14,
      "outputs": [
        {
          "output_type": "stream",
          "name": "stdout",
          "text": [
            "Drive already mounted at /content/drive; to attempt to forcibly remount, call drive.mount(\"/content/drive\", force_remount=True).\n"
          ]
        }
      ]
    },
    {
      "cell_type": "markdown",
      "source": [
        "## Pobranie tweetów z twittera\n",
        "\n",
        "## plik txt załączony - nie ma potrzeby ponownego uruchamoania"
      ],
      "metadata": {
        "id": "mMUodJX7MikF"
      }
    },
    {
      "cell_type": "code",
      "metadata": {
        "id": "zpPpVHEN3OS6"
      },
      "source": [
        "api_key = 'XX'\n",
        "api_key_secret = 'XX'\n",
        "access_token = 'XX'\n",
        "access_token_secret = 'XX'"
      ],
      "execution_count": null,
      "outputs": []
    },
    {
      "cell_type": "code",
      "source": [
        "auth = tw.OAuthHandler(api_key, api_key_secret)\n",
        "auth.set_access_token(access_token, access_token_secret)\n",
        "api = tw.API(auth, wait_on_rate_limit=True)"
      ],
      "metadata": {
        "id": "0qP7SB8L_-6t"
      },
      "execution_count": null,
      "outputs": []
    },
    {
      "cell_type": "code",
      "source": [
        "f =  open('/content/drive/MyDrive/Twitter/pl_covid_tweets_clean.txt') \n",
        "f1 =f.readlines()"
      ],
      "metadata": {
        "id": "OWpIIUS5__En"
      },
      "execution_count": null,
      "outputs": []
    },
    {
      "cell_type": "code",
      "source": [
        "df = pd.DataFrame(f1)\n",
        "df = df[0].str.split(expand=True,)\n",
        "df = df[0][1:]\n",
        "df = pd.DataFrame(df)\n",
        "df.columns = ['tweet_id']"
      ],
      "metadata": {
        "id": "RiK3dRWe5Qp0"
      },
      "execution_count": null,
      "outputs": []
    },
    {
      "cell_type": "code",
      "source": [
        "tweet_txt = []\n",
        "sec = 0 \n",
        "a = 0\n",
        "b = 100\n",
        "while sec < round(len(df)/100):\n",
        "  try:\n",
        "    tweets = api.statuses_lookup(list(df['tweet_id'][a:b]))\n",
        "    for i in tweets:\n",
        "      tweet_txt.append(i.text)\n",
        "   \n",
        "    if (sec % 100) == 0:\n",
        "      with open('/content/drive/MyDrive/Twitter/pl_covid_tweets.txt', 'w') as f:\n",
        "        for item in tweet_txt:\n",
        "          item = item.replace('\\n', ' ')\n",
        "          f.write(\"%s\\n\" % item)\n",
        "      print(\"sequence number:\", sec)\n",
        "    sec+=1\n",
        "    a = 100 * sec\n",
        "    b = 100 + 100 * sec\n",
        "\n",
        "  except BaseException as e:\n",
        "          print('failed on_status,',str(e)) \n",
        "          time.sleep(5) "
      ],
      "metadata": {
        "id": "pN6adUBXtJBT"
      },
      "execution_count": null,
      "outputs": []
    },
    {
      "cell_type": "markdown",
      "source": [
        "####Wczytanie tweetów z pliku tekstowego"
      ],
      "metadata": {
        "id": "5ls4nqW0jJ8y"
      }
    },
    {
      "cell_type": "code",
      "source": [
        "raw_tweets = pd.read_csv(f'/content/drive/MyDrive/Twitter/pl_covid_tweets.txt', sep='delimiter', header = None)"
      ],
      "metadata": {
        "id": "t5XpASGfjJTy",
        "colab": {
          "base_uri": "https://localhost:8080/"
        },
        "outputId": "a7d83e88-827b-49d7-83b2-5a2859f9e97a"
      },
      "execution_count": 3,
      "outputs": [
        {
          "output_type": "stream",
          "name": "stderr",
          "text": [
            "/usr/local/lib/python3.7/dist-packages/ipykernel_launcher.py:1: ParserWarning: Falling back to the 'python' engine because the 'c' engine does not support regex separators (separators > 1 char and different from '\\s+' are interpreted as regex); you can avoid this warning by specifying engine='python'.\n",
            "  \"\"\"Entry point for launching an IPython kernel.\n"
          ]
        }
      ]
    },
    {
      "cell_type": "code",
      "source": [
        "raw_tweets.columns = ['tweet']\n",
        "raw_tweets"
      ],
      "metadata": {
        "id": "jJGEWvxgjyOy",
        "colab": {
          "base_uri": "https://localhost:8080/",
          "height": 423
        },
        "outputId": "e021d3bd-f99d-42a5-f73a-4261454693f5"
      },
      "execution_count": 4,
      "outputs": [
        {
          "output_type": "execute_result",
          "data": {
            "text/html": [
              "\n",
              "  <div id=\"df-3ddd32e5-20ec-4703-a05c-9df37849f545\">\n",
              "    <div class=\"colab-df-container\">\n",
              "      <div>\n",
              "<style scoped>\n",
              "    .dataframe tbody tr th:only-of-type {\n",
              "        vertical-align: middle;\n",
              "    }\n",
              "\n",
              "    .dataframe tbody tr th {\n",
              "        vertical-align: top;\n",
              "    }\n",
              "\n",
              "    .dataframe thead th {\n",
              "        text-align: right;\n",
              "    }\n",
              "</style>\n",
              "<table border=\"1\" class=\"dataframe\">\n",
              "  <thead>\n",
              "    <tr style=\"text-align: right;\">\n",
              "      <th></th>\n",
              "      <th>tweet</th>\n",
              "    </tr>\n",
              "  </thead>\n",
              "  <tbody>\n",
              "    <tr>\n",
              "      <th>0</th>\n",
              "      <td>Kiedy #coronavirus dotrze do Polski, napotka o...</td>\n",
              "    </tr>\n",
              "    <tr>\n",
              "      <th>1</th>\n",
              "      <td>Kolejni Polacy chcą wrócić z Wuhan https://t.c...</td>\n",
              "    </tr>\n",
              "    <tr>\n",
              "      <th>2</th>\n",
              "      <td>A tymczasem w Wuhan odcięto od reszty świata o...</td>\n",
              "    </tr>\n",
              "    <tr>\n",
              "      <th>3</th>\n",
              "      <td>@PatrykWachowiec @KancelariaSejmu nie zdziwię ...</td>\n",
              "    </tr>\n",
              "    <tr>\n",
              "      <th>4</th>\n",
              "      <td>.@MSZ_RP: 19 Polaków chce wrócić z Wuhan, w am...</td>\n",
              "    </tr>\n",
              "    <tr>\n",
              "      <th>...</th>\n",
              "      <td>...</td>\n",
              "    </tr>\n",
              "    <tr>\n",
              "      <th>483655</th>\n",
              "      <td>Adi w natarciu 😁 https://t.co/CXdSR1AST2</td>\n",
              "    </tr>\n",
              "    <tr>\n",
              "      <th>483656</th>\n",
              "      <td>Kwarantanna osób zaszczepionych nie jest potrz...</td>\n",
              "    </tr>\n",
              "    <tr>\n",
              "      <th>483657</th>\n",
              "      <td>pkp 4.0 ready sik? https://t.co/fHzdNsd3AL</td>\n",
              "    </tr>\n",
              "    <tr>\n",
              "      <th>483658</th>\n",
              "      <td>@rafalhubert Alfabet, jak będzie trzeba, to si...</td>\n",
              "    </tr>\n",
              "    <tr>\n",
              "      <th>483659</th>\n",
              "      <td>Pkp oh pkp.. https://t.co/UI5sxQ5SlJ</td>\n",
              "    </tr>\n",
              "  </tbody>\n",
              "</table>\n",
              "<p>483660 rows × 1 columns</p>\n",
              "</div>\n",
              "      <button class=\"colab-df-convert\" onclick=\"convertToInteractive('df-3ddd32e5-20ec-4703-a05c-9df37849f545')\"\n",
              "              title=\"Convert this dataframe to an interactive table.\"\n",
              "              style=\"display:none;\">\n",
              "        \n",
              "  <svg xmlns=\"http://www.w3.org/2000/svg\" height=\"24px\"viewBox=\"0 0 24 24\"\n",
              "       width=\"24px\">\n",
              "    <path d=\"M0 0h24v24H0V0z\" fill=\"none\"/>\n",
              "    <path d=\"M18.56 5.44l.94 2.06.94-2.06 2.06-.94-2.06-.94-.94-2.06-.94 2.06-2.06.94zm-11 1L8.5 8.5l.94-2.06 2.06-.94-2.06-.94L8.5 2.5l-.94 2.06-2.06.94zm10 10l.94 2.06.94-2.06 2.06-.94-2.06-.94-.94-2.06-.94 2.06-2.06.94z\"/><path d=\"M17.41 7.96l-1.37-1.37c-.4-.4-.92-.59-1.43-.59-.52 0-1.04.2-1.43.59L10.3 9.45l-7.72 7.72c-.78.78-.78 2.05 0 2.83L4 21.41c.39.39.9.59 1.41.59.51 0 1.02-.2 1.41-.59l7.78-7.78 2.81-2.81c.8-.78.8-2.07 0-2.86zM5.41 20L4 18.59l7.72-7.72 1.47 1.35L5.41 20z\"/>\n",
              "  </svg>\n",
              "      </button>\n",
              "      \n",
              "  <style>\n",
              "    .colab-df-container {\n",
              "      display:flex;\n",
              "      flex-wrap:wrap;\n",
              "      gap: 12px;\n",
              "    }\n",
              "\n",
              "    .colab-df-convert {\n",
              "      background-color: #E8F0FE;\n",
              "      border: none;\n",
              "      border-radius: 50%;\n",
              "      cursor: pointer;\n",
              "      display: none;\n",
              "      fill: #1967D2;\n",
              "      height: 32px;\n",
              "      padding: 0 0 0 0;\n",
              "      width: 32px;\n",
              "    }\n",
              "\n",
              "    .colab-df-convert:hover {\n",
              "      background-color: #E2EBFA;\n",
              "      box-shadow: 0px 1px 2px rgba(60, 64, 67, 0.3), 0px 1px 3px 1px rgba(60, 64, 67, 0.15);\n",
              "      fill: #174EA6;\n",
              "    }\n",
              "\n",
              "    [theme=dark] .colab-df-convert {\n",
              "      background-color: #3B4455;\n",
              "      fill: #D2E3FC;\n",
              "    }\n",
              "\n",
              "    [theme=dark] .colab-df-convert:hover {\n",
              "      background-color: #434B5C;\n",
              "      box-shadow: 0px 1px 3px 1px rgba(0, 0, 0, 0.15);\n",
              "      filter: drop-shadow(0px 1px 2px rgba(0, 0, 0, 0.3));\n",
              "      fill: #FFFFFF;\n",
              "    }\n",
              "  </style>\n",
              "\n",
              "      <script>\n",
              "        const buttonEl =\n",
              "          document.querySelector('#df-3ddd32e5-20ec-4703-a05c-9df37849f545 button.colab-df-convert');\n",
              "        buttonEl.style.display =\n",
              "          google.colab.kernel.accessAllowed ? 'block' : 'none';\n",
              "\n",
              "        async function convertToInteractive(key) {\n",
              "          const element = document.querySelector('#df-3ddd32e5-20ec-4703-a05c-9df37849f545');\n",
              "          const dataTable =\n",
              "            await google.colab.kernel.invokeFunction('convertToInteractive',\n",
              "                                                     [key], {});\n",
              "          if (!dataTable) return;\n",
              "\n",
              "          const docLinkHtml = 'Like what you see? Visit the ' +\n",
              "            '<a target=\"_blank\" href=https://colab.research.google.com/notebooks/data_table.ipynb>data table notebook</a>'\n",
              "            + ' to learn more about interactive tables.';\n",
              "          element.innerHTML = '';\n",
              "          dataTable['output_type'] = 'display_data';\n",
              "          await google.colab.output.renderOutput(dataTable, element);\n",
              "          const docLink = document.createElement('div');\n",
              "          docLink.innerHTML = docLinkHtml;\n",
              "          element.appendChild(docLink);\n",
              "        }\n",
              "      </script>\n",
              "    </div>\n",
              "  </div>\n",
              "  "
            ],
            "text/plain": [
              "                                                    tweet\n",
              "0       Kiedy #coronavirus dotrze do Polski, napotka o...\n",
              "1       Kolejni Polacy chcą wrócić z Wuhan https://t.c...\n",
              "2       A tymczasem w Wuhan odcięto od reszty świata o...\n",
              "3       @PatrykWachowiec @KancelariaSejmu nie zdziwię ...\n",
              "4       .@MSZ_RP: 19 Polaków chce wrócić z Wuhan, w am...\n",
              "...                                                   ...\n",
              "483655           Adi w natarciu 😁 https://t.co/CXdSR1AST2\n",
              "483656  Kwarantanna osób zaszczepionych nie jest potrz...\n",
              "483657         pkp 4.0 ready sik? https://t.co/fHzdNsd3AL\n",
              "483658  @rafalhubert Alfabet, jak będzie trzeba, to si...\n",
              "483659               Pkp oh pkp.. https://t.co/UI5sxQ5SlJ\n",
              "\n",
              "[483660 rows x 1 columns]"
            ]
          },
          "metadata": {},
          "execution_count": 4
        }
      ]
    },
    {
      "cell_type": "markdown",
      "source": [
        "## Czyszczenie i obróbka danych"
      ],
      "metadata": {
        "id": "KYKvMrHxkKeb"
      }
    },
    {
      "cell_type": "code",
      "source": [
        "nlp = spacy.load('pl_core_news_md')\n",
        "lemma = WordNetLemmatizer()\n",
        "nltk.download('wordnet')\n",
        "stopwordlist = nlp.Defaults.stop_words"
      ],
      "metadata": {
        "id": "XrDmQa0AuF6c",
        "colab": {
          "base_uri": "https://localhost:8080/"
        },
        "outputId": "977d0b39-cdab-4fd7-9034-144e255a221c"
      },
      "execution_count": 5,
      "outputs": [
        {
          "output_type": "stream",
          "name": "stdout",
          "text": [
            "[nltk_data] Downloading package wordnet to /root/nltk_data...\n",
            "[nltk_data]   Package wordnet is already up-to-date!\n"
          ]
        }
      ]
    },
    {
      "cell_type": "code",
      "source": [
        "raw_tweets['tweet'].drop_duplicates(keep=\"first\", inplace=True)"
      ],
      "metadata": {
        "id": "EJOuClenuFw-"
      },
      "execution_count": 6,
      "outputs": []
    },
    {
      "cell_type": "code",
      "source": [
        "emoji_pattern = re.compile(\"[\"\n",
        "        u\"\\U0001F600-\\U0001F64F\"  # emoticons\n",
        "        u\"\\U0001F300-\\U0001F5FF\"  # symbols & pictographs\n",
        "        u\"\\U0001F680-\\U0001F6FF\"  # transport & map symbols\n",
        "        u\"\\U0001F1E0-\\U0001F1FF\"  # flags (iOS)\n",
        "                           \"]+\", flags=re.UNICODE)"
      ],
      "metadata": {
        "id": "NT2wNBCnxJBp"
      },
      "execution_count": 7,
      "outputs": []
    },
    {
      "cell_type": "code",
      "source": [
        "def clean_text(text):\n",
        "    text = text.lower()\n",
        "    text = re.sub('https?:\\/\\/[a-zA-Z0-9@:%._\\/+~#=?&;-]*', ' ', text)\n",
        "    text = re.sub('\\$[a-zA-Z0-9]*', ' ', text)\n",
        "    text = re.sub('\\@[a-zA-Z0-9]*', ' ', text)\n",
        "    text = re.sub('[^a-zA-Z\\']', ' ', text)\n",
        "    text = re.sub('\\t', '', text)\n",
        "    text = re.sub('\\S*@\\S*\\s?', ' ',text)\n",
        "    text = emoji_pattern.sub(r'', text)\n",
        "    text = ' '.join( [w for w in text.split() if len(w)>1] )\n",
        "    text = ' '.join([lemma.lemmatize(x) for x in nltk.wordpunct_tokenize(text) if x not in stopwordlist])\n",
        "    text = [lemma.lemmatize(x,nltk.corpus.reader.wordnet.VERB) for x in nltk.wordpunct_tokenize(text) if x not in stopwordlist]\n",
        "    return text "
      ],
      "metadata": {
        "id": "zjEokKbVtI_B"
      },
      "execution_count": 8,
      "outputs": []
    },
    {
      "cell_type": "code",
      "source": [
        "raw_tweets['clean_text'] = raw_tweets['tweet'].apply(clean_text)\n",
        "raw_tweets.dropna(subset = [\"clean_text\"], inplace=True)\n",
        "raw_tweets['cleaned_text'] = raw_tweets['clean_text'].apply(lambda x:' '.join(x))\n"
      ],
      "metadata": {
        "id": "C7o0sPE-9Qna"
      },
      "execution_count": 9,
      "outputs": []
    },
    {
      "cell_type": "markdown",
      "source": [
        "## **Labeling**\n",
        "\n",
        "2 klasy - pozytywna i negatywna\n"
      ],
      "metadata": {
        "id": "iFEABW-KM84J"
      }
    },
    {
      "cell_type": "code",
      "source": [
        "sent = [row for row in raw_tweets['clean_text']]\n",
        "phrases = Phrases(sent, min_count=1, progress_per=500000)\n",
        "bigram = Phraser(phrases)\n",
        "sentences = bigram[sent]"
      ],
      "metadata": {
        "id": "XV3iu_7I3WtS"
      },
      "execution_count": 10,
      "outputs": []
    },
    {
      "cell_type": "code",
      "source": [
        "w2v_model = Word2Vec(min_count=4,\n",
        "                     window=5,\n",
        "                     size =300,\n",
        "                     sample=1e-5, \n",
        "                     alpha=0.03, \n",
        "                     min_alpha=0.0007, \n",
        "                     negative=20,\n",
        "                     seed= 42,\n",
        "                     workers=multiprocessing.cpu_count()-1)\n",
        "\n",
        "\n",
        "w2v_model.build_vocab(sentences, progress_per= 500000)"
      ],
      "metadata": {
        "id": "ElMoHg644SqV"
      },
      "execution_count": 11,
      "outputs": []
    },
    {
      "cell_type": "code",
      "source": [
        "w2v_model.train(sentences, total_examples=w2v_model.corpus_count, epochs=30, report_delay=1)"
      ],
      "metadata": {
        "colab": {
          "base_uri": "https://localhost:8080/"
        },
        "id": "QHQJwYo44-gH",
        "outputId": "e82a8fd2-e897-463e-fb5a-bd91ad3864d5"
      },
      "execution_count": 12,
      "outputs": [
        {
          "output_type": "execute_result",
          "data": {
            "text/plain": [
              "(45852883, 98996850)"
            ]
          },
          "metadata": {},
          "execution_count": 12
        }
      ]
    },
    {
      "cell_type": "code",
      "source": [
        "w2v_model.save(\"/content/drive/MyDrive/Twitter/word2vec.model\")"
      ],
      "metadata": {
        "id": "lyPvOxqK51ue"
      },
      "execution_count": 15,
      "outputs": []
    },
    {
      "cell_type": "code",
      "source": [
        "word_vectors = Word2Vec.load(\"/content/drive/MyDrive/Twitter/word2vec.model\").wv"
      ],
      "metadata": {
        "id": "LPKBaIzo51nN"
      },
      "execution_count": 16,
      "outputs": []
    },
    {
      "cell_type": "code",
      "source": [
        "model = KMeans(n_clusters=2, max_iter=1000, random_state=42, n_init=50).fit(X=word_vectors.vectors.astype('double'))\n",
        "positive_cluster_center = model.cluster_centers_[1]\n",
        "negative_cluster_center = model.cluster_centers_[0]"
      ],
      "metadata": {
        "id": "v4QIZQrj51e2"
      },
      "execution_count": 17,
      "outputs": []
    },
    {
      "cell_type": "code",
      "source": [
        "words = pd.DataFrame(word_vectors.index2entity)\n",
        "words.columns = ['words']\n",
        "words['vectors'] = words.words.apply(lambda x: word_vectors[f'{x}'])\n",
        "words['cluster'] = words.vectors.apply(lambda x: model.predict([np.array(x)]))\n",
        "words.cluster = words.cluster.apply(lambda x: x[0])"
      ],
      "metadata": {
        "id": "h40Iqk8_8W0n"
      },
      "execution_count": 18,
      "outputs": []
    },
    {
      "cell_type": "code",
      "source": [
        "words['cluster_value'] = [1 if i==1 else 0 if i==0 else -1 for i in words.cluster]\n",
        "words['closeness_score'] = words.apply(lambda x: 1/(model.transform([x.vectors]).min()), axis=1)"
      ],
      "metadata": {
        "id": "3mjS_P_lBit7"
      },
      "execution_count": 19,
      "outputs": []
    },
    {
      "cell_type": "code",
      "source": [
        "words[words[\"cluster_value\"]==1].sort_values(\"closeness_score\")"
      ],
      "metadata": {
        "colab": {
          "base_uri": "https://localhost:8080/",
          "height": 423
        },
        "id": "bByQZQ0IBtPv",
        "outputId": "5b1d039d-b566-4b53-8dd3-d26ed42813d4"
      },
      "execution_count": 20,
      "outputs": [
        {
          "output_type": "execute_result",
          "data": {
            "text/html": [
              "\n",
              "  <div id=\"df-e1f7d067-7ad8-4d50-abb4-0765d4b468df\">\n",
              "    <div class=\"colab-df-container\">\n",
              "      <div>\n",
              "<style scoped>\n",
              "    .dataframe tbody tr th:only-of-type {\n",
              "        vertical-align: middle;\n",
              "    }\n",
              "\n",
              "    .dataframe tbody tr th {\n",
              "        vertical-align: top;\n",
              "    }\n",
              "\n",
              "    .dataframe thead th {\n",
              "        text-align: right;\n",
              "    }\n",
              "</style>\n",
              "<table border=\"1\" class=\"dataframe\">\n",
              "  <thead>\n",
              "    <tr style=\"text-align: right;\">\n",
              "      <th></th>\n",
              "      <th>words</th>\n",
              "      <th>vectors</th>\n",
              "      <th>cluster</th>\n",
              "      <th>cluster_value</th>\n",
              "      <th>closeness_score</th>\n",
              "    </tr>\n",
              "  </thead>\n",
              "  <tbody>\n",
              "    <tr>\n",
              "      <th>5413</th>\n",
              "      <td>stanu_wyj</td>\n",
              "      <td>[-0.098631576, -0.6654961, 1.3304988, 0.156235...</td>\n",
              "      <td>1</td>\n",
              "      <td>1</td>\n",
              "      <td>0.073572</td>\n",
              "    </tr>\n",
              "    <tr>\n",
              "      <th>4314</th>\n",
              "      <td>owej</td>\n",
              "      <td>[0.0061311508, 0.6796716, 0.9942139, -0.026016...</td>\n",
              "      <td>1</td>\n",
              "      <td>1</td>\n",
              "      <td>0.073862</td>\n",
              "    </tr>\n",
              "    <tr>\n",
              "      <th>2968</th>\n",
              "      <td>lekarzy_piel</td>\n",
              "      <td>[-0.2251644, 0.068139985, 0.011834906, -1.3252...</td>\n",
              "      <td>1</td>\n",
              "      <td>1</td>\n",
              "      <td>0.075686</td>\n",
              "    </tr>\n",
              "    <tr>\n",
              "      <th>5271</th>\n",
              "      <td>kszo</td>\n",
              "      <td>[-0.30604944, -0.5789292, 0.63667375, -0.32025...</td>\n",
              "      <td>1</td>\n",
              "      <td>1</td>\n",
              "      <td>0.076180</td>\n",
              "    </tr>\n",
              "    <tr>\n",
              "      <th>2340</th>\n",
              "      <td>stan_wyj</td>\n",
              "      <td>[-0.022780143, 0.3366357, 0.39410332, 0.907120...</td>\n",
              "      <td>1</td>\n",
              "      <td>1</td>\n",
              "      <td>0.078523</td>\n",
              "    </tr>\n",
              "    <tr>\n",
              "      <th>...</th>\n",
              "      <td>...</td>\n",
              "      <td>...</td>\n",
              "      <td>...</td>\n",
              "      <td>...</td>\n",
              "      <td>...</td>\n",
              "    </tr>\n",
              "    <tr>\n",
              "      <th>79819</th>\n",
              "      <td>bieniu_grypie</td>\n",
              "      <td>[-0.03682679, 0.073585436, 0.06946283, -0.0510...</td>\n",
              "      <td>1</td>\n",
              "      <td>1</td>\n",
              "      <td>2.365201</td>\n",
              "    </tr>\n",
              "    <tr>\n",
              "      <th>76977</th>\n",
              "      <td>linie_wolfsburg</td>\n",
              "      <td>[-0.049890462, 0.07741166, 0.03779513, -0.0552...</td>\n",
              "      <td>1</td>\n",
              "      <td>1</td>\n",
              "      <td>2.432541</td>\n",
              "    </tr>\n",
              "    <tr>\n",
              "      <th>72766</th>\n",
              "      <td>wytypowane_szpitale</td>\n",
              "      <td>[-0.034950845, 0.0974787, -0.018025562, -0.068...</td>\n",
              "      <td>1</td>\n",
              "      <td>1</td>\n",
              "      <td>2.635330</td>\n",
              "    </tr>\n",
              "    <tr>\n",
              "      <th>63620</th>\n",
              "      <td>stworzy_bomb</td>\n",
              "      <td>[-0.039301082, 0.0990868, 0.03439434, -0.03102...</td>\n",
              "      <td>1</td>\n",
              "      <td>1</td>\n",
              "      <td>3.073026</td>\n",
              "    </tr>\n",
              "    <tr>\n",
              "      <th>77955</th>\n",
              "      <td>acalno_firm</td>\n",
              "      <td>[-0.036901794, 0.08656458, 0.036743, -0.041866...</td>\n",
              "      <td>1</td>\n",
              "      <td>1</td>\n",
              "      <td>3.262967</td>\n",
              "    </tr>\n",
              "  </tbody>\n",
              "</table>\n",
              "<p>38999 rows × 5 columns</p>\n",
              "</div>\n",
              "      <button class=\"colab-df-convert\" onclick=\"convertToInteractive('df-e1f7d067-7ad8-4d50-abb4-0765d4b468df')\"\n",
              "              title=\"Convert this dataframe to an interactive table.\"\n",
              "              style=\"display:none;\">\n",
              "        \n",
              "  <svg xmlns=\"http://www.w3.org/2000/svg\" height=\"24px\"viewBox=\"0 0 24 24\"\n",
              "       width=\"24px\">\n",
              "    <path d=\"M0 0h24v24H0V0z\" fill=\"none\"/>\n",
              "    <path d=\"M18.56 5.44l.94 2.06.94-2.06 2.06-.94-2.06-.94-.94-2.06-.94 2.06-2.06.94zm-11 1L8.5 8.5l.94-2.06 2.06-.94-2.06-.94L8.5 2.5l-.94 2.06-2.06.94zm10 10l.94 2.06.94-2.06 2.06-.94-2.06-.94-.94-2.06-.94 2.06-2.06.94z\"/><path d=\"M17.41 7.96l-1.37-1.37c-.4-.4-.92-.59-1.43-.59-.52 0-1.04.2-1.43.59L10.3 9.45l-7.72 7.72c-.78.78-.78 2.05 0 2.83L4 21.41c.39.39.9.59 1.41.59.51 0 1.02-.2 1.41-.59l7.78-7.78 2.81-2.81c.8-.78.8-2.07 0-2.86zM5.41 20L4 18.59l7.72-7.72 1.47 1.35L5.41 20z\"/>\n",
              "  </svg>\n",
              "      </button>\n",
              "      \n",
              "  <style>\n",
              "    .colab-df-container {\n",
              "      display:flex;\n",
              "      flex-wrap:wrap;\n",
              "      gap: 12px;\n",
              "    }\n",
              "\n",
              "    .colab-df-convert {\n",
              "      background-color: #E8F0FE;\n",
              "      border: none;\n",
              "      border-radius: 50%;\n",
              "      cursor: pointer;\n",
              "      display: none;\n",
              "      fill: #1967D2;\n",
              "      height: 32px;\n",
              "      padding: 0 0 0 0;\n",
              "      width: 32px;\n",
              "    }\n",
              "\n",
              "    .colab-df-convert:hover {\n",
              "      background-color: #E2EBFA;\n",
              "      box-shadow: 0px 1px 2px rgba(60, 64, 67, 0.3), 0px 1px 3px 1px rgba(60, 64, 67, 0.15);\n",
              "      fill: #174EA6;\n",
              "    }\n",
              "\n",
              "    [theme=dark] .colab-df-convert {\n",
              "      background-color: #3B4455;\n",
              "      fill: #D2E3FC;\n",
              "    }\n",
              "\n",
              "    [theme=dark] .colab-df-convert:hover {\n",
              "      background-color: #434B5C;\n",
              "      box-shadow: 0px 1px 3px 1px rgba(0, 0, 0, 0.15);\n",
              "      filter: drop-shadow(0px 1px 2px rgba(0, 0, 0, 0.3));\n",
              "      fill: #FFFFFF;\n",
              "    }\n",
              "  </style>\n",
              "\n",
              "      <script>\n",
              "        const buttonEl =\n",
              "          document.querySelector('#df-e1f7d067-7ad8-4d50-abb4-0765d4b468df button.colab-df-convert');\n",
              "        buttonEl.style.display =\n",
              "          google.colab.kernel.accessAllowed ? 'block' : 'none';\n",
              "\n",
              "        async function convertToInteractive(key) {\n",
              "          const element = document.querySelector('#df-e1f7d067-7ad8-4d50-abb4-0765d4b468df');\n",
              "          const dataTable =\n",
              "            await google.colab.kernel.invokeFunction('convertToInteractive',\n",
              "                                                     [key], {});\n",
              "          if (!dataTable) return;\n",
              "\n",
              "          const docLinkHtml = 'Like what you see? Visit the ' +\n",
              "            '<a target=\"_blank\" href=https://colab.research.google.com/notebooks/data_table.ipynb>data table notebook</a>'\n",
              "            + ' to learn more about interactive tables.';\n",
              "          element.innerHTML = '';\n",
              "          dataTable['output_type'] = 'display_data';\n",
              "          await google.colab.output.renderOutput(dataTable, element);\n",
              "          const docLink = document.createElement('div');\n",
              "          docLink.innerHTML = docLinkHtml;\n",
              "          element.appendChild(docLink);\n",
              "        }\n",
              "      </script>\n",
              "    </div>\n",
              "  </div>\n",
              "  "
            ],
            "text/plain": [
              "                     words  ... closeness_score\n",
              "5413             stanu_wyj  ...        0.073572\n",
              "4314                  owej  ...        0.073862\n",
              "2968          lekarzy_piel  ...        0.075686\n",
              "5271                  kszo  ...        0.076180\n",
              "2340              stan_wyj  ...        0.078523\n",
              "...                    ...  ...             ...\n",
              "79819        bieniu_grypie  ...        2.365201\n",
              "76977      linie_wolfsburg  ...        2.432541\n",
              "72766  wytypowane_szpitale  ...        2.635330\n",
              "63620         stworzy_bomb  ...        3.073026\n",
              "77955          acalno_firm  ...        3.262967\n",
              "\n",
              "[38999 rows x 5 columns]"
            ]
          },
          "metadata": {},
          "execution_count": 20
        }
      ]
    },
    {
      "cell_type": "code",
      "source": [
        "words[words[\"cluster_value\"]==0].sort_values(\"closeness_score\")"
      ],
      "metadata": {
        "colab": {
          "base_uri": "https://localhost:8080/",
          "height": 423
        },
        "id": "EKDfr8AcBuoI",
        "outputId": "8e120cc0-c4f5-463a-856d-8a5fc493a296"
      },
      "execution_count": 21,
      "outputs": [
        {
          "output_type": "execute_result",
          "data": {
            "text/html": [
              "\n",
              "  <div id=\"df-22d7d7b3-130e-4b5e-bd76-4e7f0493e4c5\">\n",
              "    <div class=\"colab-df-container\">\n",
              "      <div>\n",
              "<style scoped>\n",
              "    .dataframe tbody tr th:only-of-type {\n",
              "        vertical-align: middle;\n",
              "    }\n",
              "\n",
              "    .dataframe tbody tr th {\n",
              "        vertical-align: top;\n",
              "    }\n",
              "\n",
              "    .dataframe thead th {\n",
              "        text-align: right;\n",
              "    }\n",
              "</style>\n",
              "<table border=\"1\" class=\"dataframe\">\n",
              "  <thead>\n",
              "    <tr style=\"text-align: right;\">\n",
              "      <th></th>\n",
              "      <th>words</th>\n",
              "      <th>vectors</th>\n",
              "      <th>cluster</th>\n",
              "      <th>cluster_value</th>\n",
              "      <th>closeness_score</th>\n",
              "    </tr>\n",
              "  </thead>\n",
              "  <tbody>\n",
              "    <tr>\n",
              "      <th>3564</th>\n",
              "      <td>eczno_ciowych</td>\n",
              "      <td>[0.84157884, -0.9855663, -0.07769974, 0.287853...</td>\n",
              "      <td>0</td>\n",
              "      <td>0</td>\n",
              "      <td>0.069289</td>\n",
              "    </tr>\n",
              "    <tr>\n",
              "      <th>3625</th>\n",
              "      <td>mediach_spo</td>\n",
              "      <td>[0.39610904, -0.20883602, 0.38044462, -0.79207...</td>\n",
              "      <td>0</td>\n",
              "      <td>0</td>\n",
              "      <td>0.072002</td>\n",
              "    </tr>\n",
              "    <tr>\n",
              "      <th>4541</th>\n",
              "      <td>eczny</td>\n",
              "      <td>[0.667587, -0.40313917, 0.17168981, 0.05372841...</td>\n",
              "      <td>0</td>\n",
              "      <td>0</td>\n",
              "      <td>0.073371</td>\n",
              "    </tr>\n",
              "    <tr>\n",
              "      <th>4483</th>\n",
              "      <td>dystans_spo</td>\n",
              "      <td>[1.254755, 0.025978431, 0.69338137, 0.6226792,...</td>\n",
              "      <td>0</td>\n",
              "      <td>0</td>\n",
              "      <td>0.073612</td>\n",
              "    </tr>\n",
              "    <tr>\n",
              "      <th>3766</th>\n",
              "      <td>dek</td>\n",
              "      <td>[-0.2526872, -0.18568578, -0.17977388, 0.55465...</td>\n",
              "      <td>0</td>\n",
              "      <td>0</td>\n",
              "      <td>0.081398</td>\n",
              "    </tr>\n",
              "    <tr>\n",
              "      <th>...</th>\n",
              "      <td>...</td>\n",
              "      <td>...</td>\n",
              "      <td>...</td>\n",
              "      <td>...</td>\n",
              "      <td>...</td>\n",
              "    </tr>\n",
              "    <tr>\n",
              "      <th>82156</th>\n",
              "      <td>posle</td>\n",
              "      <td>[-0.054914992, 0.0025621697, 0.0020873982, -0....</td>\n",
              "      <td>0</td>\n",
              "      <td>0</td>\n",
              "      <td>3.021695</td>\n",
              "    </tr>\n",
              "    <tr>\n",
              "      <th>81606</th>\n",
              "      <td>zajumali</td>\n",
              "      <td>[-0.061100382, -0.0041599036, 0.028920708, -0....</td>\n",
              "      <td>0</td>\n",
              "      <td>0</td>\n",
              "      <td>3.062114</td>\n",
              "    </tr>\n",
              "    <tr>\n",
              "      <th>79867</th>\n",
              "      <td>idiotycznymi</td>\n",
              "      <td>[-0.028920334, 0.037153017, -0.001076283, -0.0...</td>\n",
              "      <td>0</td>\n",
              "      <td>0</td>\n",
              "      <td>3.099884</td>\n",
              "    </tr>\n",
              "    <tr>\n",
              "      <th>78264</th>\n",
              "      <td>berety</td>\n",
              "      <td>[-0.04105159, 0.027003486, 0.009557617, -0.048...</td>\n",
              "      <td>0</td>\n",
              "      <td>0</td>\n",
              "      <td>3.106128</td>\n",
              "    </tr>\n",
              "    <tr>\n",
              "      <th>81273</th>\n",
              "      <td>szpitalem_narodowym</td>\n",
              "      <td>[-0.034648135, 0.017025115, 0.030477704, -0.06...</td>\n",
              "      <td>0</td>\n",
              "      <td>0</td>\n",
              "      <td>3.408698</td>\n",
              "    </tr>\n",
              "  </tbody>\n",
              "</table>\n",
              "<p>45762 rows × 5 columns</p>\n",
              "</div>\n",
              "      <button class=\"colab-df-convert\" onclick=\"convertToInteractive('df-22d7d7b3-130e-4b5e-bd76-4e7f0493e4c5')\"\n",
              "              title=\"Convert this dataframe to an interactive table.\"\n",
              "              style=\"display:none;\">\n",
              "        \n",
              "  <svg xmlns=\"http://www.w3.org/2000/svg\" height=\"24px\"viewBox=\"0 0 24 24\"\n",
              "       width=\"24px\">\n",
              "    <path d=\"M0 0h24v24H0V0z\" fill=\"none\"/>\n",
              "    <path d=\"M18.56 5.44l.94 2.06.94-2.06 2.06-.94-2.06-.94-.94-2.06-.94 2.06-2.06.94zm-11 1L8.5 8.5l.94-2.06 2.06-.94-2.06-.94L8.5 2.5l-.94 2.06-2.06.94zm10 10l.94 2.06.94-2.06 2.06-.94-2.06-.94-.94-2.06-.94 2.06-2.06.94z\"/><path d=\"M17.41 7.96l-1.37-1.37c-.4-.4-.92-.59-1.43-.59-.52 0-1.04.2-1.43.59L10.3 9.45l-7.72 7.72c-.78.78-.78 2.05 0 2.83L4 21.41c.39.39.9.59 1.41.59.51 0 1.02-.2 1.41-.59l7.78-7.78 2.81-2.81c.8-.78.8-2.07 0-2.86zM5.41 20L4 18.59l7.72-7.72 1.47 1.35L5.41 20z\"/>\n",
              "  </svg>\n",
              "      </button>\n",
              "      \n",
              "  <style>\n",
              "    .colab-df-container {\n",
              "      display:flex;\n",
              "      flex-wrap:wrap;\n",
              "      gap: 12px;\n",
              "    }\n",
              "\n",
              "    .colab-df-convert {\n",
              "      background-color: #E8F0FE;\n",
              "      border: none;\n",
              "      border-radius: 50%;\n",
              "      cursor: pointer;\n",
              "      display: none;\n",
              "      fill: #1967D2;\n",
              "      height: 32px;\n",
              "      padding: 0 0 0 0;\n",
              "      width: 32px;\n",
              "    }\n",
              "\n",
              "    .colab-df-convert:hover {\n",
              "      background-color: #E2EBFA;\n",
              "      box-shadow: 0px 1px 2px rgba(60, 64, 67, 0.3), 0px 1px 3px 1px rgba(60, 64, 67, 0.15);\n",
              "      fill: #174EA6;\n",
              "    }\n",
              "\n",
              "    [theme=dark] .colab-df-convert {\n",
              "      background-color: #3B4455;\n",
              "      fill: #D2E3FC;\n",
              "    }\n",
              "\n",
              "    [theme=dark] .colab-df-convert:hover {\n",
              "      background-color: #434B5C;\n",
              "      box-shadow: 0px 1px 3px 1px rgba(0, 0, 0, 0.15);\n",
              "      filter: drop-shadow(0px 1px 2px rgba(0, 0, 0, 0.3));\n",
              "      fill: #FFFFFF;\n",
              "    }\n",
              "  </style>\n",
              "\n",
              "      <script>\n",
              "        const buttonEl =\n",
              "          document.querySelector('#df-22d7d7b3-130e-4b5e-bd76-4e7f0493e4c5 button.colab-df-convert');\n",
              "        buttonEl.style.display =\n",
              "          google.colab.kernel.accessAllowed ? 'block' : 'none';\n",
              "\n",
              "        async function convertToInteractive(key) {\n",
              "          const element = document.querySelector('#df-22d7d7b3-130e-4b5e-bd76-4e7f0493e4c5');\n",
              "          const dataTable =\n",
              "            await google.colab.kernel.invokeFunction('convertToInteractive',\n",
              "                                                     [key], {});\n",
              "          if (!dataTable) return;\n",
              "\n",
              "          const docLinkHtml = 'Like what you see? Visit the ' +\n",
              "            '<a target=\"_blank\" href=https://colab.research.google.com/notebooks/data_table.ipynb>data table notebook</a>'\n",
              "            + ' to learn more about interactive tables.';\n",
              "          element.innerHTML = '';\n",
              "          dataTable['output_type'] = 'display_data';\n",
              "          await google.colab.output.renderOutput(dataTable, element);\n",
              "          const docLink = document.createElement('div');\n",
              "          docLink.innerHTML = docLinkHtml;\n",
              "          element.appendChild(docLink);\n",
              "        }\n",
              "      </script>\n",
              "    </div>\n",
              "  </div>\n",
              "  "
            ],
            "text/plain": [
              "                     words  ... closeness_score\n",
              "3564         eczno_ciowych  ...        0.069289\n",
              "3625           mediach_spo  ...        0.072002\n",
              "4541                 eczny  ...        0.073371\n",
              "4483           dystans_spo  ...        0.073612\n",
              "3766                   dek  ...        0.081398\n",
              "...                    ...  ...             ...\n",
              "82156                posle  ...        3.021695\n",
              "81606             zajumali  ...        3.062114\n",
              "79867         idiotycznymi  ...        3.099884\n",
              "78264               berety  ...        3.106128\n",
              "81273  szpitalem_narodowym  ...        3.408698\n",
              "\n",
              "[45762 rows x 5 columns]"
            ]
          },
          "metadata": {},
          "execution_count": 21
        }
      ]
    },
    {
      "cell_type": "code",
      "source": [
        "positive = ['dobry','miły','niesamowity','śmieszny','kochany','słodki']\n",
        "negative= ['głupi','szalony','niesympatyczny','zły','straszny', 'absurdalny' 'durny']\n",
        "for i in positive:\n",
        "    words.loc[words[\"words\"]==i,\"cluster_value\"] = 1\n",
        "    \n",
        "for i in negative:\n",
        "    words.loc[words[\"words\"]==i,\"cluster_value\"] = 0"
      ],
      "metadata": {
        "id": "e0vMeWmSB2bf"
      },
      "execution_count": 22,
      "outputs": []
    },
    {
      "cell_type": "code",
      "source": [
        "emotion = {1: \"positive\",\n",
        "           0: \"negative\"}\n",
        "\n",
        "words[\"sentiments\"] = words[\"cluster_value\"].map(emotion)\n",
        "\n",
        "fig = plt.gcf()\n",
        "fig.set_size_inches(7,7)\n",
        "colors = [\"skyblue\",\"darkblue\"]\n",
        "df_pie=words[\"sentiments\"].value_counts().reset_index()\n",
        "plt.pie(df_pie[\"sentiments\"], labels = df_pie[\"index\"], radius=2, colors=colors, autopct=\"%1.1f%%\")\n",
        "plt.axis('equal')\n",
        "plt.title(\"Dystrybucja sentymentów \", fontsize=20)\n",
        "plt.show()\n",
        "df_pie"
      ],
      "metadata": {
        "colab": {
          "base_uri": "https://localhost:8080/",
          "height": 535
        },
        "id": "yicF8y1uC6hh",
        "outputId": "6de12492-2ec2-4c4e-c42a-abe591ecb10a"
      },
      "execution_count": 23,
      "outputs": [
        {
          "output_type": "display_data",
          "data": {
            "image/png": "[encoded data removed]",
            "text/plain": [
              "<Figure size 504x504 with 1 Axes>"
            ]
          },
          "metadata": {}
        },
        {
          "output_type": "execute_result",
          "data": {
            "text/html": [
              "\n",
              "  <div id=\"df-49da8690-623f-453a-a4ee-9f1e811c0cbc\">\n",
              "    <div class=\"colab-df-container\">\n",
              "      <div>\n",
              "<style scoped>\n",
              "    .dataframe tbody tr th:only-of-type {\n",
              "        vertical-align: middle;\n",
              "    }\n",
              "\n",
              "    .dataframe tbody tr th {\n",
              "        vertical-align: top;\n",
              "    }\n",
              "\n",
              "    .dataframe thead th {\n",
              "        text-align: right;\n",
              "    }\n",
              "</style>\n",
              "<table border=\"1\" class=\"dataframe\">\n",
              "  <thead>\n",
              "    <tr style=\"text-align: right;\">\n",
              "      <th></th>\n",
              "      <th>index</th>\n",
              "      <th>sentiments</th>\n",
              "    </tr>\n",
              "  </thead>\n",
              "  <tbody>\n",
              "    <tr>\n",
              "      <th>0</th>\n",
              "      <td>negative</td>\n",
              "      <td>45759</td>\n",
              "    </tr>\n",
              "    <tr>\n",
              "      <th>1</th>\n",
              "      <td>positive</td>\n",
              "      <td>39002</td>\n",
              "    </tr>\n",
              "  </tbody>\n",
              "</table>\n",
              "</div>\n",
              "      <button class=\"colab-df-convert\" onclick=\"convertToInteractive('df-49da8690-623f-453a-a4ee-9f1e811c0cbc')\"\n",
              "              title=\"Convert this dataframe to an interactive table.\"\n",
              "              style=\"display:none;\">\n",
              "        \n",
              "  <svg xmlns=\"http://www.w3.org/2000/svg\" height=\"24px\"viewBox=\"0 0 24 24\"\n",
              "       width=\"24px\">\n",
              "    <path d=\"M0 0h24v24H0V0z\" fill=\"none\"/>\n",
              "    <path d=\"M18.56 5.44l.94 2.06.94-2.06 2.06-.94-2.06-.94-.94-2.06-.94 2.06-2.06.94zm-11 1L8.5 8.5l.94-2.06 2.06-.94-2.06-.94L8.5 2.5l-.94 2.06-2.06.94zm10 10l.94 2.06.94-2.06 2.06-.94-2.06-.94-.94-2.06-.94 2.06-2.06.94z\"/><path d=\"M17.41 7.96l-1.37-1.37c-.4-.4-.92-.59-1.43-.59-.52 0-1.04.2-1.43.59L10.3 9.45l-7.72 7.72c-.78.78-.78 2.05 0 2.83L4 21.41c.39.39.9.59 1.41.59.51 0 1.02-.2 1.41-.59l7.78-7.78 2.81-2.81c.8-.78.8-2.07 0-2.86zM5.41 20L4 18.59l7.72-7.72 1.47 1.35L5.41 20z\"/>\n",
              "  </svg>\n",
              "      </button>\n",
              "      \n",
              "  <style>\n",
              "    .colab-df-container {\n",
              "      display:flex;\n",
              "      flex-wrap:wrap;\n",
              "      gap: 12px;\n",
              "    }\n",
              "\n",
              "    .colab-df-convert {\n",
              "      background-color: #E8F0FE;\n",
              "      border: none;\n",
              "      border-radius: 50%;\n",
              "      cursor: pointer;\n",
              "      display: none;\n",
              "      fill: #1967D2;\n",
              "      height: 32px;\n",
              "      padding: 0 0 0 0;\n",
              "      width: 32px;\n",
              "    }\n",
              "\n",
              "    .colab-df-convert:hover {\n",
              "      background-color: #E2EBFA;\n",
              "      box-shadow: 0px 1px 2px rgba(60, 64, 67, 0.3), 0px 1px 3px 1px rgba(60, 64, 67, 0.15);\n",
              "      fill: #174EA6;\n",
              "    }\n",
              "\n",
              "    [theme=dark] .colab-df-convert {\n",
              "      background-color: #3B4455;\n",
              "      fill: #D2E3FC;\n",
              "    }\n",
              "\n",
              "    [theme=dark] .colab-df-convert:hover {\n",
              "      background-color: #434B5C;\n",
              "      box-shadow: 0px 1px 3px 1px rgba(0, 0, 0, 0.15);\n",
              "      filter: drop-shadow(0px 1px 2px rgba(0, 0, 0, 0.3));\n",
              "      fill: #FFFFFF;\n",
              "    }\n",
              "  </style>\n",
              "\n",
              "      <script>\n",
              "        const buttonEl =\n",
              "          document.querySelector('#df-49da8690-623f-453a-a4ee-9f1e811c0cbc button.colab-df-convert');\n",
              "        buttonEl.style.display =\n",
              "          google.colab.kernel.accessAllowed ? 'block' : 'none';\n",
              "\n",
              "        async function convertToInteractive(key) {\n",
              "          const element = document.querySelector('#df-49da8690-623f-453a-a4ee-9f1e811c0cbc');\n",
              "          const dataTable =\n",
              "            await google.colab.kernel.invokeFunction('convertToInteractive',\n",
              "                                                     [key], {});\n",
              "          if (!dataTable) return;\n",
              "\n",
              "          const docLinkHtml = 'Like what you see? Visit the ' +\n",
              "            '<a target=\"_blank\" href=https://colab.research.google.com/notebooks/data_table.ipynb>data table notebook</a>'\n",
              "            + ' to learn more about interactive tables.';\n",
              "          element.innerHTML = '';\n",
              "          dataTable['output_type'] = 'display_data';\n",
              "          await google.colab.output.renderOutput(dataTable, element);\n",
              "          const docLink = document.createElement('div');\n",
              "          docLink.innerHTML = docLinkHtml;\n",
              "          element.appendChild(docLink);\n",
              "        }\n",
              "      </script>\n",
              "    </div>\n",
              "  </div>\n",
              "  "
            ],
            "text/plain": [
              "      index  sentiments\n",
              "0  negative       45759\n",
              "1  positive       39002"
            ]
          },
          "metadata": {},
          "execution_count": 23
        }
      ]
    },
    {
      "cell_type": "code",
      "source": [
        "from math import nan\n",
        "def get_sentiments(x, sent_dict):\n",
        "    total = 0\n",
        "    count = 0\n",
        "    test = x[\"clean_text\"]\n",
        "    for t in test:\n",
        "        if words_dict.get(t):\n",
        "            total += int(sent_dict.get(t))\n",
        "        count+=1 \n",
        "    if count == 0:\n",
        "     avg = 0 \n",
        "    else:\n",
        "      avg = total/count\n",
        "\n",
        "    #print(avg)\n",
        "    sentiment = 0 if avg < 0.5 else 1\n",
        "    return sentiment"
      ],
      "metadata": {
        "id": "pZVnKCxGC6YZ"
      },
      "execution_count": 24,
      "outputs": []
    },
    {
      "cell_type": "code",
      "source": [
        "words_dict = dict(zip(words.words, words.cluster_value))"
      ],
      "metadata": {
        "id": "eF1AclxCEB1o"
      },
      "execution_count": 25,
      "outputs": []
    },
    {
      "cell_type": "code",
      "source": [
        "raw_tweets[\"sentiment\"] = raw_tweets.apply(get_sentiments, args=(words_dict,), axis=1)"
      ],
      "metadata": {
        "id": "OB6BaoMt9cu_"
      },
      "execution_count": 26,
      "outputs": []
    },
    {
      "cell_type": "code",
      "source": [
        "raw_tweets[\"sentiment\"].value_counts()"
      ],
      "metadata": {
        "colab": {
          "base_uri": "https://localhost:8080/"
        },
        "id": "R4u-Oq-vEEF5",
        "outputId": "dd53cb02-4972-4d4e-fd6b-29ce1c82602d"
      },
      "execution_count": 27,
      "outputs": [
        {
          "output_type": "execute_result",
          "data": {
            "text/plain": [
              "0    307530\n",
              "1    176130\n",
              "Name: sentiment, dtype: int64"
            ]
          },
          "metadata": {},
          "execution_count": 27
        }
      ]
    },
    {
      "cell_type": "code",
      "source": [
        "emotion = {1: \"positive\",\n",
        "           0: \"negative\"}\n",
        "\n",
        "raw_tweets[\"sentiments_val\"] = raw_tweets[\"sentiment\"].map(emotion)\n",
        "df_pie = raw_tweets[\"sentiments_val\"].value_counts().reset_index()\n",
        "fig = plt.gcf()\n",
        "fig.set_size_inches(7,7)\n",
        "colors = [\"darkblue\",\"skyblue\"]\n",
        "plt.pie(df_pie[\"sentiments_val\"],labels= df_pie[\"index\"],radius=2,autopct=\"%1.1f%%\", colors=colors)\n",
        "plt.axis('equal')\n",
        "plt.title(\"Dystrybucja sentymentu w tweetach \", fontsize=20)\n",
        "#plt.savefig(\"images/Sentiment_Distribution.png\")\n",
        "plt.show()\n",
        "df_pie"
      ],
      "metadata": {
        "colab": {
          "base_uri": "https://localhost:8080/",
          "height": 527
        },
        "id": "v3IA2e6DEGq3",
        "outputId": "54e58b20-69c2-4b3f-bd32-2d8e00ed8b7f"
      },
      "execution_count": 28,
      "outputs": [
        {
          "output_type": "display_data",
          "data": {
            "image/png": "[encoded data removed]",
            "text/plain": [
              "<Figure size 504x504 with 1 Axes>"
            ]
          },
          "metadata": {}
        },
        {
          "output_type": "execute_result",
          "data": {
            "text/html": [
              "\n",
              "  <div id=\"df-22353d02-3119-4f7c-a560-35ce727eca09\">\n",
              "    <div class=\"colab-df-container\">\n",
              "      <div>\n",
              "<style scoped>\n",
              "    .dataframe tbody tr th:only-of-type {\n",
              "        vertical-align: middle;\n",
              "    }\n",
              "\n",
              "    .dataframe tbody tr th {\n",
              "        vertical-align: top;\n",
              "    }\n",
              "\n",
              "    .dataframe thead th {\n",
              "        text-align: right;\n",
              "    }\n",
              "</style>\n",
              "<table border=\"1\" class=\"dataframe\">\n",
              "  <thead>\n",
              "    <tr style=\"text-align: right;\">\n",
              "      <th></th>\n",
              "      <th>index</th>\n",
              "      <th>sentiments_val</th>\n",
              "    </tr>\n",
              "  </thead>\n",
              "  <tbody>\n",
              "    <tr>\n",
              "      <th>0</th>\n",
              "      <td>negative</td>\n",
              "      <td>307530</td>\n",
              "    </tr>\n",
              "    <tr>\n",
              "      <th>1</th>\n",
              "      <td>positive</td>\n",
              "      <td>176130</td>\n",
              "    </tr>\n",
              "  </tbody>\n",
              "</table>\n",
              "</div>\n",
              "      <button class=\"colab-df-convert\" onclick=\"convertToInteractive('df-22353d02-3119-4f7c-a560-35ce727eca09')\"\n",
              "              title=\"Convert this dataframe to an interactive table.\"\n",
              "              style=\"display:none;\">\n",
              "        \n",
              "  <svg xmlns=\"http://www.w3.org/2000/svg\" height=\"24px\"viewBox=\"0 0 24 24\"\n",
              "       width=\"24px\">\n",
              "    <path d=\"M0 0h24v24H0V0z\" fill=\"none\"/>\n",
              "    <path d=\"M18.56 5.44l.94 2.06.94-2.06 2.06-.94-2.06-.94-.94-2.06-.94 2.06-2.06.94zm-11 1L8.5 8.5l.94-2.06 2.06-.94-2.06-.94L8.5 2.5l-.94 2.06-2.06.94zm10 10l.94 2.06.94-2.06 2.06-.94-2.06-.94-.94-2.06-.94 2.06-2.06.94z\"/><path d=\"M17.41 7.96l-1.37-1.37c-.4-.4-.92-.59-1.43-.59-.52 0-1.04.2-1.43.59L10.3 9.45l-7.72 7.72c-.78.78-.78 2.05 0 2.83L4 21.41c.39.39.9.59 1.41.59.51 0 1.02-.2 1.41-.59l7.78-7.78 2.81-2.81c.8-.78.8-2.07 0-2.86zM5.41 20L4 18.59l7.72-7.72 1.47 1.35L5.41 20z\"/>\n",
              "  </svg>\n",
              "      </button>\n",
              "      \n",
              "  <style>\n",
              "    .colab-df-container {\n",
              "      display:flex;\n",
              "      flex-wrap:wrap;\n",
              "      gap: 12px;\n",
              "    }\n",
              "\n",
              "    .colab-df-convert {\n",
              "      background-color: #E8F0FE;\n",
              "      border: none;\n",
              "      border-radius: 50%;\n",
              "      cursor: pointer;\n",
              "      display: none;\n",
              "      fill: #1967D2;\n",
              "      height: 32px;\n",
              "      padding: 0 0 0 0;\n",
              "      width: 32px;\n",
              "    }\n",
              "\n",
              "    .colab-df-convert:hover {\n",
              "      background-color: #E2EBFA;\n",
              "      box-shadow: 0px 1px 2px rgba(60, 64, 67, 0.3), 0px 1px 3px 1px rgba(60, 64, 67, 0.15);\n",
              "      fill: #174EA6;\n",
              "    }\n",
              "\n",
              "    [theme=dark] .colab-df-convert {\n",
              "      background-color: #3B4455;\n",
              "      fill: #D2E3FC;\n",
              "    }\n",
              "\n",
              "    [theme=dark] .colab-df-convert:hover {\n",
              "      background-color: #434B5C;\n",
              "      box-shadow: 0px 1px 3px 1px rgba(0, 0, 0, 0.15);\n",
              "      filter: drop-shadow(0px 1px 2px rgba(0, 0, 0, 0.3));\n",
              "      fill: #FFFFFF;\n",
              "    }\n",
              "  </style>\n",
              "\n",
              "      <script>\n",
              "        const buttonEl =\n",
              "          document.querySelector('#df-22353d02-3119-4f7c-a560-35ce727eca09 button.colab-df-convert');\n",
              "        buttonEl.style.display =\n",
              "          google.colab.kernel.accessAllowed ? 'block' : 'none';\n",
              "\n",
              "        async function convertToInteractive(key) {\n",
              "          const element = document.querySelector('#df-22353d02-3119-4f7c-a560-35ce727eca09');\n",
              "          const dataTable =\n",
              "            await google.colab.kernel.invokeFunction('convertToInteractive',\n",
              "                                                     [key], {});\n",
              "          if (!dataTable) return;\n",
              "\n",
              "          const docLinkHtml = 'Like what you see? Visit the ' +\n",
              "            '<a target=\"_blank\" href=https://colab.research.google.com/notebooks/data_table.ipynb>data table notebook</a>'\n",
              "            + ' to learn more about interactive tables.';\n",
              "          element.innerHTML = '';\n",
              "          dataTable['output_type'] = 'display_data';\n",
              "          await google.colab.output.renderOutput(dataTable, element);\n",
              "          const docLink = document.createElement('div');\n",
              "          docLink.innerHTML = docLinkHtml;\n",
              "          element.appendChild(docLink);\n",
              "        }\n",
              "      </script>\n",
              "    </div>\n",
              "  </div>\n",
              "  "
            ],
            "text/plain": [
              "      index  sentiments_val\n",
              "0  negative          307530\n",
              "1  positive          176130"
            ]
          },
          "metadata": {},
          "execution_count": 28
        }
      ]
    },
    {
      "cell_type": "code",
      "source": [
        "raw_tweets.head()"
      ],
      "metadata": {
        "colab": {
          "base_uri": "https://localhost:8080/",
          "height": 206
        },
        "id": "UgEJvZOfqtSg",
        "outputId": "594cbc0b-cfbf-4e6b-8455-0428d64f7d6e"
      },
      "execution_count": 29,
      "outputs": [
        {
          "output_type": "execute_result",
          "data": {
            "text/html": [
              "\n",
              "  <div id=\"df-331a0280-ebfe-4711-8557-8f9dffeac3fb\">\n",
              "    <div class=\"colab-df-container\">\n",
              "      <div>\n",
              "<style scoped>\n",
              "    .dataframe tbody tr th:only-of-type {\n",
              "        vertical-align: middle;\n",
              "    }\n",
              "\n",
              "    .dataframe tbody tr th {\n",
              "        vertical-align: top;\n",
              "    }\n",
              "\n",
              "    .dataframe thead th {\n",
              "        text-align: right;\n",
              "    }\n",
              "</style>\n",
              "<table border=\"1\" class=\"dataframe\">\n",
              "  <thead>\n",
              "    <tr style=\"text-align: right;\">\n",
              "      <th></th>\n",
              "      <th>tweet</th>\n",
              "      <th>clean_text</th>\n",
              "      <th>cleaned_text</th>\n",
              "      <th>sentiment</th>\n",
              "      <th>sentiments_val</th>\n",
              "    </tr>\n",
              "  </thead>\n",
              "  <tbody>\n",
              "    <tr>\n",
              "      <th>0</th>\n",
              "      <td>Kiedy #coronavirus dotrze do Polski, napotka o...</td>\n",
              "      <td>[coronavirus, dotrze, polski, napotka, op, zna...</td>\n",
              "      <td>coronavirus dotrze polski napotka op znakomici...</td>\n",
              "      <td>0</td>\n",
              "      <td>negative</td>\n",
              "    </tr>\n",
              "    <tr>\n",
              "      <th>1</th>\n",
              "      <td>Kolejni Polacy chcą wrócić z Wuhan https://t.c...</td>\n",
              "      <td>[kolejni, polacy, chc, wr, wuhan]</td>\n",
              "      <td>kolejni polacy chc wr wuhan</td>\n",
              "      <td>0</td>\n",
              "      <td>negative</td>\n",
              "    </tr>\n",
              "    <tr>\n",
              "      <th>2</th>\n",
              "      <td>A tymczasem w Wuhan odcięto od reszty świata o...</td>\n",
              "      <td>[tymczasem, wuhan, odci, reszty, wiata, obszar...</td>\n",
              "      <td>tymczasem wuhan odci reszty wiata obszar por w...</td>\n",
              "      <td>0</td>\n",
              "      <td>negative</td>\n",
              "    </tr>\n",
              "    <tr>\n",
              "      <th>3</th>\n",
              "      <td>@PatrykWachowiec @KancelariaSejmu nie zdziwię ...</td>\n",
              "      <td>[zdziwi, si, powiedz, listy, pojecha, chin, wu...</td>\n",
              "      <td>zdziwi si powiedz listy pojecha chin wuhan odw...</td>\n",
              "      <td>0</td>\n",
              "      <td>negative</td>\n",
              "    </tr>\n",
              "    <tr>\n",
              "      <th>4</th>\n",
              "      <td>.@MSZ_RP: 19 Polaków chce wrócić z Wuhan, w am...</td>\n",
              "      <td>[rp, polak, wr, wuhan, ambasadzie, rp, pekinie...</td>\n",
              "      <td>rp polak wr wuhan ambasadzie rp pekinie powo a...</td>\n",
              "      <td>0</td>\n",
              "      <td>negative</td>\n",
              "    </tr>\n",
              "  </tbody>\n",
              "</table>\n",
              "</div>\n",
              "      <button class=\"colab-df-convert\" onclick=\"convertToInteractive('df-331a0280-ebfe-4711-8557-8f9dffeac3fb')\"\n",
              "              title=\"Convert this dataframe to an interactive table.\"\n",
              "              style=\"display:none;\">\n",
              "        \n",
              "  <svg xmlns=\"http://www.w3.org/2000/svg\" height=\"24px\"viewBox=\"0 0 24 24\"\n",
              "       width=\"24px\">\n",
              "    <path d=\"M0 0h24v24H0V0z\" fill=\"none\"/>\n",
              "    <path d=\"M18.56 5.44l.94 2.06.94-2.06 2.06-.94-2.06-.94-.94-2.06-.94 2.06-2.06.94zm-11 1L8.5 8.5l.94-2.06 2.06-.94-2.06-.94L8.5 2.5l-.94 2.06-2.06.94zm10 10l.94 2.06.94-2.06 2.06-.94-2.06-.94-.94-2.06-.94 2.06-2.06.94z\"/><path d=\"M17.41 7.96l-1.37-1.37c-.4-.4-.92-.59-1.43-.59-.52 0-1.04.2-1.43.59L10.3 9.45l-7.72 7.72c-.78.78-.78 2.05 0 2.83L4 21.41c.39.39.9.59 1.41.59.51 0 1.02-.2 1.41-.59l7.78-7.78 2.81-2.81c.8-.78.8-2.07 0-2.86zM5.41 20L4 18.59l7.72-7.72 1.47 1.35L5.41 20z\"/>\n",
              "  </svg>\n",
              "      </button>\n",
              "      \n",
              "  <style>\n",
              "    .colab-df-container {\n",
              "      display:flex;\n",
              "      flex-wrap:wrap;\n",
              "      gap: 12px;\n",
              "    }\n",
              "\n",
              "    .colab-df-convert {\n",
              "      background-color: #E8F0FE;\n",
              "      border: none;\n",
              "      border-radius: 50%;\n",
              "      cursor: pointer;\n",
              "      display: none;\n",
              "      fill: #1967D2;\n",
              "      height: 32px;\n",
              "      padding: 0 0 0 0;\n",
              "      width: 32px;\n",
              "    }\n",
              "\n",
              "    .colab-df-convert:hover {\n",
              "      background-color: #E2EBFA;\n",
              "      box-shadow: 0px 1px 2px rgba(60, 64, 67, 0.3), 0px 1px 3px 1px rgba(60, 64, 67, 0.15);\n",
              "      fill: #174EA6;\n",
              "    }\n",
              "\n",
              "    [theme=dark] .colab-df-convert {\n",
              "      background-color: #3B4455;\n",
              "      fill: #D2E3FC;\n",
              "    }\n",
              "\n",
              "    [theme=dark] .colab-df-convert:hover {\n",
              "      background-color: #434B5C;\n",
              "      box-shadow: 0px 1px 3px 1px rgba(0, 0, 0, 0.15);\n",
              "      filter: drop-shadow(0px 1px 2px rgba(0, 0, 0, 0.3));\n",
              "      fill: #FFFFFF;\n",
              "    }\n",
              "  </style>\n",
              "\n",
              "      <script>\n",
              "        const buttonEl =\n",
              "          document.querySelector('#df-331a0280-ebfe-4711-8557-8f9dffeac3fb button.colab-df-convert');\n",
              "        buttonEl.style.display =\n",
              "          google.colab.kernel.accessAllowed ? 'block' : 'none';\n",
              "\n",
              "        async function convertToInteractive(key) {\n",
              "          const element = document.querySelector('#df-331a0280-ebfe-4711-8557-8f9dffeac3fb');\n",
              "          const dataTable =\n",
              "            await google.colab.kernel.invokeFunction('convertToInteractive',\n",
              "                                                     [key], {});\n",
              "          if (!dataTable) return;\n",
              "\n",
              "          const docLinkHtml = 'Like what you see? Visit the ' +\n",
              "            '<a target=\"_blank\" href=https://colab.research.google.com/notebooks/data_table.ipynb>data table notebook</a>'\n",
              "            + ' to learn more about interactive tables.';\n",
              "          element.innerHTML = '';\n",
              "          dataTable['output_type'] = 'display_data';\n",
              "          await google.colab.output.renderOutput(dataTable, element);\n",
              "          const docLink = document.createElement('div');\n",
              "          docLink.innerHTML = docLinkHtml;\n",
              "          element.appendChild(docLink);\n",
              "        }\n",
              "      </script>\n",
              "    </div>\n",
              "  </div>\n",
              "  "
            ],
            "text/plain": [
              "                                               tweet  ... sentiments_val\n",
              "0  Kiedy #coronavirus dotrze do Polski, napotka o...  ...       negative\n",
              "1  Kolejni Polacy chcą wrócić z Wuhan https://t.c...  ...       negative\n",
              "2  A tymczasem w Wuhan odcięto od reszty świata o...  ...       negative\n",
              "3  @PatrykWachowiec @KancelariaSejmu nie zdziwię ...  ...       negative\n",
              "4  .@MSZ_RP: 19 Polaków chce wrócić z Wuhan, w am...  ...       negative\n",
              "\n",
              "[5 rows x 5 columns]"
            ]
          },
          "metadata": {},
          "execution_count": 29
        }
      ]
    },
    {
      "cell_type": "code",
      "source": [
        "raw_tweets.to_csv( \"/content/drive/MyDrive/Twitter/clean_tweets.csv\", index=False, encoding='utf-8-sig')"
      ],
      "metadata": {
        "id": "Od9Swz8UqtiW"
      },
      "execution_count": 30,
      "outputs": []
    }
  ]
}